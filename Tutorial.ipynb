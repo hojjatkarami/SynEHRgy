{
 "cells": [
  {
   "cell_type": "code",
   "execution_count": 1,
   "metadata": {},
   "outputs": [],
   "source": [
    "%load_ext autoreload\n",
    "%autoreload 2\n",
    "# activate line execution\n",
    "from IPython.core.interactiveshell import InteractiveShell\n",
    "InteractiveShell.ast_node_interactivity = \"all\"\n",
    "\n"
   ]
  },
  {
   "cell_type": "code",
   "execution_count": 2,
   "metadata": {},
   "outputs": [],
   "source": [
    "import os\n",
    "import pandas as pd\n",
    "from tqdm import tqdm\n",
    "import numpy as np\n",
    "import yaml\n",
    "import pickle\n",
    "import json\n",
    "import torch"
   ]
  },
  {
   "cell_type": "code",
   "execution_count": 3,
   "metadata": {},
   "outputs": [],
   "source": [
    "import plotly.express as px\n",
    "import plotly.graph_objects as go\n"
   ]
  },
  {
   "cell_type": "code",
   "execution_count": 4,
   "metadata": {},
   "outputs": [
    {
     "name": "stderr",
     "output_type": "stream",
     "text": [
      "/mlodata1/hokarami/HALO_Inpatient/paper3/lib/python3.8/site-packages/tqdm/auto.py:21: TqdmWarning: IProgress not found. Please update jupyter and ipywidgets. See https://ipywidgets.readthedocs.io/en/stable/user_install.html\n",
      "  from .autonotebook import tqdm as notebook_tqdm\n"
     ]
    }
   ],
   "source": [
    "from synehrgy.Dataset import MyDataset,MyDatasetRaw,ClinicalDataset\n",
    "from synehrgy.utils import *\n",
    "from synehrgy.config import HydraConfig\n",
    "from synehrgy.models import SynEHRgy"
   ]
  },
  {
   "cell_type": "markdown",
   "metadata": {},
   "source": [
    "# Configs"
   ]
  },
  {
   "cell_type": "code",
   "execution_count": 5,
   "metadata": {},
   "outputs": [],
   "source": [
    "from hydra import initialize, compose, core\n",
    "from omegaconf import DictConfig, OmegaConf\n",
    "\n"
   ]
  },
  {
   "cell_type": "code",
   "execution_count": null,
   "metadata": {},
   "outputs": [],
   "source": [
    "\n",
    "core.global_hydra.GlobalHydra.instance().clear()\n",
    "\n",
    "initialize(version_base=None, config_path=\"configs\")\n",
    "cfg = compose(config_name=\"configTrain.yaml\")"
   ]
  },
  {
   "cell_type": "code",
   "execution_count": null,
   "metadata": {},
   "outputs": [],
   "source": []
  },
  {
   "cell_type": "code",
   "execution_count": 8,
   "metadata": {},
   "outputs": [],
   "source": [
    "config = HydraConfig(cfg)\n"
   ]
  },
  {
   "cell_type": "markdown",
   "metadata": {},
   "source": [
    "# Data Loading"
   ]
  },
  {
   "cell_type": "code",
   "execution_count": 9,
   "metadata": {},
   "outputs": [
    {
     "name": "stdout",
     "output_type": "stream",
     "text": [
      "Loaded train dataset with 23468 patients\n",
      "Loaded val dataset with 5155 patients\n"
     ]
    },
    {
     "data": {
      "text/plain": [
       "{'sid': 10003,\n",
       " 'hadm_id': [144039],\n",
       " 'covariates': [[41.10715693176053, 1]],\n",
       " 'codes': [[['icd_8602',\n",
       "    'icd_80708',\n",
       "    'icd_99811',\n",
       "    'icd_4019',\n",
       "    'icd_E8798',\n",
       "    'icd_4582',\n",
       "    'icd_82523',\n",
       "    'icd_2899',\n",
       "    'icd_82525'],\n",
       "   ['proc_3399', 'proc_3409', 'proc_3404', 'proc_3893']]],\n",
       " 'ts': [    Capillary refill rate Glascow coma scale eye opening  \\\n",
       "  0                     NaN                  1 No Response   \n",
       "  1                     NaN                            NaN   \n",
       "  2                     NaN                            NaN   \n",
       "  3                     NaN                            NaN   \n",
       "  4                     NaN                            NaN   \n",
       "  5                     NaN                            NaN   \n",
       "  6                     NaN                            NaN   \n",
       "  7                     NaN                    3 To speech   \n",
       "  8                     NaN                            NaN   \n",
       "  9                     NaN                            NaN   \n",
       "  10                    NaN                            NaN   \n",
       "  11                    NaN                4 Spontaneously   \n",
       "  12                    NaN                            NaN   \n",
       "  13                    NaN                            NaN   \n",
       "  14                    NaN                            NaN   \n",
       "  15                    NaN                4 Spontaneously   \n",
       "  16                    NaN                            NaN   \n",
       "  17                    NaN                            NaN   \n",
       "  18                    NaN                            NaN   \n",
       "  19                    NaN                4 Spontaneously   \n",
       "  20                    NaN                            NaN   \n",
       "  21                    NaN                            NaN   \n",
       "  22                    NaN                            NaN   \n",
       "  23                    NaN                4 Spontaneously   \n",
       "  24                    NaN                            NaN   \n",
       "  25                    NaN                4 Spontaneously   \n",
       "  26                    NaN                            NaN   \n",
       "  27                    NaN                4 Spontaneously   \n",
       "  28                    NaN                            NaN   \n",
       "  29                    NaN                            NaN   \n",
       "  30                    NaN                            NaN   \n",
       "  31                    NaN                            NaN   \n",
       "  32                    NaN                            NaN   \n",
       "  33                    NaN                            NaN   \n",
       "  34                    NaN                            NaN   \n",
       "  35                    NaN                4 Spontaneously   \n",
       "  36                    NaN                            NaN   \n",
       "  37                    NaN                            NaN   \n",
       "  38                    NaN                            NaN   \n",
       "  39                    NaN                            NaN   \n",
       "  40                    NaN                4 Spontaneously   \n",
       "  41                    NaN                            NaN   \n",
       "  42                    NaN                            NaN   \n",
       "  43                    NaN                            NaN   \n",
       "  44                    NaN                            NaN   \n",
       "  45                    NaN                4 Spontaneously   \n",
       "  46                    NaN                            NaN   \n",
       "  47                    NaN                            NaN   \n",
       "  \n",
       "     Glascow coma scale motor response  Glascow coma scale total  \\\n",
       "  0                   5 Localizes Pain                       7.0   \n",
       "  1                                NaN                       NaN   \n",
       "  2                                NaN                       NaN   \n",
       "  3                                NaN                       NaN   \n",
       "  4                                NaN                       NaN   \n",
       "  5                                NaN                       NaN   \n",
       "  6                                NaN                       NaN   \n",
       "  7                   5 Localizes Pain                       9.0   \n",
       "  8                                NaN                       NaN   \n",
       "  9                                NaN                       NaN   \n",
       "  10                               NaN                       NaN   \n",
       "  11                  6 Obeys Commands                      11.0   \n",
       "  12                               NaN                       NaN   \n",
       "  13                               NaN                       NaN   \n",
       "  14                               NaN                       NaN   \n",
       "  15                  6 Obeys Commands                      11.0   \n",
       "  16                               NaN                       NaN   \n",
       "  17                               NaN                       NaN   \n",
       "  18                               NaN                       NaN   \n",
       "  19                  6 Obeys Commands                      15.0   \n",
       "  20                               NaN                       NaN   \n",
       "  21                               NaN                       NaN   \n",
       "  22                               NaN                       NaN   \n",
       "  23                  6 Obeys Commands                      15.0   \n",
       "  24                               NaN                       NaN   \n",
       "  25                  6 Obeys Commands                      15.0   \n",
       "  26                               NaN                       NaN   \n",
       "  27                  6 Obeys Commands                      15.0   \n",
       "  28                               NaN                       NaN   \n",
       "  29                               NaN                       NaN   \n",
       "  30                               NaN                       NaN   \n",
       "  31                               NaN                       NaN   \n",
       "  32                               NaN                       NaN   \n",
       "  33                               NaN                       NaN   \n",
       "  34                               NaN                       NaN   \n",
       "  35                  6 Obeys Commands                      15.0   \n",
       "  36                               NaN                       NaN   \n",
       "  37                               NaN                       NaN   \n",
       "  38                               NaN                       NaN   \n",
       "  39                               NaN                       NaN   \n",
       "  40                  6 Obeys Commands                      15.0   \n",
       "  41                               NaN                       NaN   \n",
       "  42                               NaN                       NaN   \n",
       "  43                               NaN                       NaN   \n",
       "  44                               NaN                       NaN   \n",
       "  45                  6 Obeys Commands                      15.0   \n",
       "  46                               NaN                       NaN   \n",
       "  47                               NaN                       NaN   \n",
       "  \n",
       "     Glascow coma scale verbal response  Alanine aminotransferase  Albumin  \\\n",
       "  0                        1.0 ET/Trach                       NaN      NaN   \n",
       "  1                                 NaN                       NaN      NaN   \n",
       "  2                                 NaN                       NaN      NaN   \n",
       "  3                                 NaN                       NaN      NaN   \n",
       "  4                                 NaN                       NaN      NaN   \n",
       "  5                                 NaN                       NaN      NaN   \n",
       "  6                                 NaN                       NaN      NaN   \n",
       "  7                        1.0 ET/Trach                       NaN      NaN   \n",
       "  8                                 NaN                       NaN      NaN   \n",
       "  9                                 NaN                       NaN      NaN   \n",
       "  10                                NaN                       NaN      NaN   \n",
       "  11                       1.0 ET/Trach                       NaN      NaN   \n",
       "  12                                NaN                       NaN      NaN   \n",
       "  13                                NaN                       NaN      NaN   \n",
       "  14                                NaN                       NaN      NaN   \n",
       "  15                       1.0 ET/Trach                       NaN      NaN   \n",
       "  16                                NaN                       NaN      NaN   \n",
       "  17                                NaN                       NaN      NaN   \n",
       "  18                                NaN                       NaN      NaN   \n",
       "  19                         5 Oriented                       NaN      NaN   \n",
       "  20                                NaN                       NaN      NaN   \n",
       "  21                                NaN                       NaN      NaN   \n",
       "  22                                NaN                       NaN      NaN   \n",
       "  23                         5 Oriented                       NaN      NaN   \n",
       "  24                                NaN                       NaN      NaN   \n",
       "  25                         5 Oriented                       NaN      NaN   \n",
       "  26                                NaN                       NaN      NaN   \n",
       "  27                         5 Oriented                       NaN      NaN   \n",
       "  28                                NaN                       NaN      NaN   \n",
       "  29                                NaN                       NaN      NaN   \n",
       "  30                                NaN                       NaN      NaN   \n",
       "  31                                NaN                       NaN      NaN   \n",
       "  32                                NaN                       NaN      NaN   \n",
       "  33                                NaN                       NaN      NaN   \n",
       "  34                                NaN                       NaN      NaN   \n",
       "  35                         5 Oriented                       NaN      NaN   \n",
       "  36                                NaN                       NaN      NaN   \n",
       "  37                                NaN                       NaN      NaN   \n",
       "  38                                NaN                       NaN      NaN   \n",
       "  39                                NaN                       NaN      NaN   \n",
       "  40                         5 Oriented                       NaN      NaN   \n",
       "  41                                NaN                       NaN      NaN   \n",
       "  42                                NaN                       NaN      NaN   \n",
       "  43                                NaN                       NaN      NaN   \n",
       "  44                                NaN                       NaN      NaN   \n",
       "  45                         5 Oriented                       NaN      NaN   \n",
       "  46                                NaN                       NaN      NaN   \n",
       "  47                                NaN                       NaN      NaN   \n",
       "  \n",
       "      Alkaline phosphate  Anion gap  Asparate aminotransferase  ...  Platelets  \\\n",
       "  0                  NaN        NaN                        NaN  ...        NaN   \n",
       "  1                  NaN       14.0                        NaN  ...      172.0   \n",
       "  2                  NaN        NaN                        NaN  ...        NaN   \n",
       "  3                  NaN        NaN                        NaN  ...        NaN   \n",
       "  4                  NaN        NaN                        NaN  ...        NaN   \n",
       "  5                  NaN        NaN                        NaN  ...        NaN   \n",
       "  6                  NaN        NaN                        NaN  ...        NaN   \n",
       "  7                  NaN        NaN                        NaN  ...        NaN   \n",
       "  8                  NaN        NaN                        NaN  ...        NaN   \n",
       "  9                  NaN        NaN                        NaN  ...        NaN   \n",
       "  10                 NaN        NaN                        NaN  ...        NaN   \n",
       "  11                 NaN        NaN                        NaN  ...        NaN   \n",
       "  12                 NaN        NaN                        NaN  ...        NaN   \n",
       "  13                 NaN        NaN                        NaN  ...        NaN   \n",
       "  14                 NaN        NaN                        NaN  ...        NaN   \n",
       "  15                 NaN        NaN                        NaN  ...        NaN   \n",
       "  16                 NaN        NaN                        NaN  ...        NaN   \n",
       "  17                 NaN        NaN                        NaN  ...        NaN   \n",
       "  18                 NaN        NaN                        NaN  ...        NaN   \n",
       "  19                 NaN        NaN                        NaN  ...        NaN   \n",
       "  20                 NaN        NaN                        NaN  ...        NaN   \n",
       "  21                 NaN        NaN                        NaN  ...        NaN   \n",
       "  22                 NaN        NaN                        NaN  ...        NaN   \n",
       "  23                 NaN        NaN                        NaN  ...        NaN   \n",
       "  24                 NaN        NaN                        NaN  ...        NaN   \n",
       "  25                 NaN        NaN                        NaN  ...        NaN   \n",
       "  26                 NaN        NaN                        NaN  ...        NaN   \n",
       "  27                 NaN        NaN                        NaN  ...        NaN   \n",
       "  28                 NaN        NaN                        NaN  ...        NaN   \n",
       "  29                 NaN        NaN                        NaN  ...        NaN   \n",
       "  30                 NaN        NaN                        NaN  ...        NaN   \n",
       "  31                 NaN        NaN                        NaN  ...        NaN   \n",
       "  32                 NaN        NaN                        NaN  ...        NaN   \n",
       "  33                 NaN        NaN                        NaN  ...        NaN   \n",
       "  34                 NaN        NaN                        NaN  ...        NaN   \n",
       "  35                 NaN       17.0                        NaN  ...      158.0   \n",
       "  36                 NaN        NaN                        NaN  ...        NaN   \n",
       "  37                 NaN        NaN                        NaN  ...        NaN   \n",
       "  38                 NaN        NaN                        NaN  ...        NaN   \n",
       "  39                 NaN        NaN                        NaN  ...        NaN   \n",
       "  40                 NaN        NaN                        NaN  ...        NaN   \n",
       "  41                 NaN        NaN                        NaN  ...        NaN   \n",
       "  42                 NaN        NaN                        NaN  ...        NaN   \n",
       "  43                 NaN        NaN                        NaN  ...        NaN   \n",
       "  44                 NaN        NaN                        NaN  ...        NaN   \n",
       "  45                 NaN        NaN                        NaN  ...        NaN   \n",
       "  46                 NaN        NaN                        NaN  ...        NaN   \n",
       "  47                 NaN        NaN                        NaN  ...        NaN   \n",
       "  \n",
       "      Potassium  Prothrombin time  Red blood cell count  Respiratory rate  \\\n",
       "  0         NaN               NaN                   NaN              14.0   \n",
       "  1         3.8              14.8                  4.52              14.0   \n",
       "  2         NaN               NaN                   NaN               NaN   \n",
       "  3         NaN               NaN                   NaN              14.0   \n",
       "  4         NaN               NaN                   NaN              14.0   \n",
       "  5         NaN               NaN                   NaN              14.0   \n",
       "  6         NaN               NaN                   NaN              14.0   \n",
       "  7         NaN               NaN                   NaN              14.0   \n",
       "  8         NaN               NaN                   NaN              16.0   \n",
       "  9         NaN               NaN                   NaN               9.0   \n",
       "  10        NaN               NaN                   NaN               NaN   \n",
       "  11        NaN               NaN                   NaN              20.0   \n",
       "  12        NaN               NaN                   NaN               NaN   \n",
       "  13        NaN               NaN                   NaN              22.0   \n",
       "  14        NaN               NaN                   NaN               NaN   \n",
       "  15        NaN               NaN                   NaN              23.0   \n",
       "  16        NaN               NaN                   NaN              20.0   \n",
       "  17        NaN               NaN                   NaN              23.0   \n",
       "  18        3.9               NaN                   NaN               NaN   \n",
       "  19        NaN               NaN                   NaN              20.0   \n",
       "  20        NaN               NaN                   NaN              24.0   \n",
       "  21        NaN               NaN                   NaN              23.0   \n",
       "  22        NaN               NaN                   NaN               NaN   \n",
       "  23        NaN               NaN                   NaN              31.0   \n",
       "  24        NaN               NaN                   NaN              25.0   \n",
       "  25        NaN               NaN                   NaN              18.0   \n",
       "  26        NaN               NaN                   NaN              22.0   \n",
       "  27        NaN               NaN                   NaN              21.0   \n",
       "  28        NaN               NaN                   NaN              20.0   \n",
       "  29        NaN               NaN                   NaN              20.0   \n",
       "  30        NaN               NaN                   NaN              17.0   \n",
       "  31        NaN               NaN                   NaN              21.0   \n",
       "  32        NaN               NaN                   NaN              20.0   \n",
       "  33        NaN               NaN                   NaN              19.0   \n",
       "  34        NaN               NaN                   NaN              20.0   \n",
       "  35        3.7              14.3                  3.97              16.0   \n",
       "  36        3.0               NaN                   NaN               NaN   \n",
       "  37        NaN               NaN                   NaN               NaN   \n",
       "  38        NaN               NaN                   NaN              12.0   \n",
       "  39        NaN               NaN                   NaN              15.0   \n",
       "  40        NaN               NaN                   NaN              20.0   \n",
       "  41        NaN               NaN                   NaN              16.0   \n",
       "  42        NaN               NaN                   NaN               7.0   \n",
       "  43        NaN               NaN                   NaN              12.0   \n",
       "  44        4.1               NaN                   NaN               NaN   \n",
       "  45        NaN               NaN                   NaN              18.0   \n",
       "  46        NaN               NaN                   NaN              22.0   \n",
       "  47        NaN               NaN                   NaN              17.0   \n",
       "  \n",
       "      Systolic blood pressure  Temperature  White blood cell count    pH  \\\n",
       "  0                     141.0          NaN                     NaN   NaN   \n",
       "  1                       NaN          NaN                    10.3   NaN   \n",
       "  2                       NaN          NaN                     NaN  7.43   \n",
       "  3                     144.0    38.166698                     NaN   NaN   \n",
       "  4                     147.0          NaN                     NaN   NaN   \n",
       "  5                     152.0    39.111112                     NaN   NaN   \n",
       "  6                     145.0          NaN                     NaN   NaN   \n",
       "  7                     141.0    39.111112                     NaN   NaN   \n",
       "  8                     135.0          NaN                     NaN   NaN   \n",
       "  9                     151.0          NaN                     NaN   NaN   \n",
       "  10                      NaN          NaN                     NaN  7.37   \n",
       "  11                    137.0    38.666698                     NaN   NaN   \n",
       "  12                      NaN          NaN                     NaN  7.37   \n",
       "  13                    130.0          NaN                     NaN   NaN   \n",
       "  14                      NaN          NaN                     NaN  7.35   \n",
       "  15                    127.0    37.555599                     NaN   NaN   \n",
       "  16                    132.0          NaN                     NaN   NaN   \n",
       "  17                    114.0          NaN                     NaN   NaN   \n",
       "  18                      NaN          NaN                     NaN  7.33   \n",
       "  19                    115.0          NaN                     NaN   NaN   \n",
       "  20                    119.0          NaN                     NaN   NaN   \n",
       "  21                    145.0          NaN                     NaN   NaN   \n",
       "  22                      NaN          NaN                     NaN   NaN   \n",
       "  23                    140.0    37.055599                     NaN   NaN   \n",
       "  24                    119.0          NaN                     NaN   NaN   \n",
       "  25                    109.0          NaN                     NaN   NaN   \n",
       "  26                    124.0          NaN                     NaN   NaN   \n",
       "  27                    120.0    36.888901                     NaN   NaN   \n",
       "  28                    122.0          NaN                     NaN   NaN   \n",
       "  29                    127.0          NaN                     NaN   NaN   \n",
       "  30                    124.0          NaN                     NaN   NaN   \n",
       "  31                    125.0    37.000000                     NaN   NaN   \n",
       "  32                    126.0          NaN                     NaN   NaN   \n",
       "  33                    117.0          NaN                     NaN   NaN   \n",
       "  34                    124.0          NaN                     NaN   NaN   \n",
       "  35                    129.0    36.888901                    10.3   NaN   \n",
       "  36                      NaN          NaN                     NaN  7.35   \n",
       "  37                    141.0          NaN                     NaN   NaN   \n",
       "  38                    137.0          NaN                     NaN   NaN   \n",
       "  39                    146.0          NaN                     NaN   NaN   \n",
       "  40                    139.0    36.833335                     NaN   NaN   \n",
       "  41                    144.0          NaN                     NaN   NaN   \n",
       "  42                    132.0          NaN                     NaN   NaN   \n",
       "  43                    123.0          NaN                     NaN   NaN   \n",
       "  44                      NaN          NaN                     NaN   NaN   \n",
       "  45                    132.0          NaN                     NaN   NaN   \n",
       "  46                    130.0    36.611112                     NaN   NaN   \n",
       "  47                      NaN          NaN                     NaN   NaN   \n",
       "  \n",
       "          Hours  \n",
       "  0    0.305278  \n",
       "  1    0.471944  \n",
       "  2    0.671944  \n",
       "  3    1.305278  \n",
       "  4    2.305278  \n",
       "  5    3.305278  \n",
       "  6    4.305278  \n",
       "  7    5.305278  \n",
       "  8    5.805278  \n",
       "  9    6.305278  \n",
       "  10   6.605278  \n",
       "  11   7.305278  \n",
       "  12   7.405278  \n",
       "  13   8.305278  \n",
       "  14   8.605278  \n",
       "  15   9.305278  \n",
       "  16   9.805278  \n",
       "  17  10.305278  \n",
       "  18  10.838611  \n",
       "  19  11.305278  \n",
       "  20  11.805278  \n",
       "  21  12.305278  \n",
       "  22  12.721944  \n",
       "  23  13.305278  \n",
       "  24  14.305278  \n",
       "  25  15.305278  \n",
       "  26  16.305278  \n",
       "  27  17.305278  \n",
       "  28  18.305278  \n",
       "  29  19.305278  \n",
       "  30  20.305278  \n",
       "  31  21.305278  \n",
       "  32  22.305278  \n",
       "  33  23.305278  \n",
       "  34  24.305278  \n",
       "  35  25.305278  \n",
       "  36  25.771944  \n",
       "  37  26.305278  \n",
       "  38  27.305278  \n",
       "  39  28.305278  \n",
       "  40  29.305278  \n",
       "  41  30.305278  \n",
       "  42  31.305278  \n",
       "  43  32.305278  \n",
       "  44  32.471944  \n",
       "  45  33.305278  \n",
       "  46  34.305278  \n",
       "  47  35.305278  \n",
       "  \n",
       "  [48 rows x 42 columns]],\n",
       " 'label_ihm': [0],\n",
       " 'label_phe': [array([0, 0, 0, 0, 0, 0, 1, 0, 0, 0, 0, 0, 0, 1, 0, 0, 0, 0, 0, 0, 0, 0,\n",
       "         0, 0, 0])]}"
      ]
     },
     "execution_count": 9,
     "metadata": {},
     "output_type": "execute_result"
    }
   ],
   "source": [
    "# load processed data\n",
    "train_dataset = ClinicalDataset(config.dataset_folder, split='train')\n",
    "eval_dataset = ClinicalDataset(config.dataset_folder, split='val')\n",
    "\n",
    "\n",
    "# An example of the data\n",
    "train_dataset[0]"
   ]
  },
  {
   "cell_type": "code",
   "execution_count": 10,
   "metadata": {},
   "outputs": [
    {
     "name": "stdout",
     "output_type": "stream",
     "text": [
      "Discretized data already exists. Loading...\n",
      "Discretized data already exists. Loading...\n"
     ]
    },
    {
     "data": {
      "text/plain": [
       "{'covars': [([41, 42], [5, 1])],\n",
       " 'codes': [[892,\n",
       "   889,\n",
       "   66,\n",
       "   0,\n",
       "   68,\n",
       "   496,\n",
       "   2832,\n",
       "   1455,\n",
       "   1283,\n",
       "   4241,\n",
       "   3715,\n",
       "   3629,\n",
       "   3599]],\n",
       " 'ts': [[([1, 2, 3, 4, 17, 20, 25, 29, 36, 37],\n",
       "    [0, 0, 0, 0, 9, 5, 8, 9, 4, 8],\n",
       "    [0]),\n",
       "   ([8, 11, 13, 14, 15, 16, 19, 21, 22, 26, 29, 31, 32, 33, 34, 35, 36, 39],\n",
       "    [6, 6, 0, 5, 3, 0, 4, 8, 9, 0, 9, 5, 3, 6, 4, 9, 4, 3],\n",
       "    [0]),\n",
       "   ([30, 40], [4, 9], [0]),\n",
       "   ([17, 20, 25, 29, 36, 37, 38], [9, 6, 8, 9, 4, 8, 8], [1]),\n",
       "   ([17, 20, 25, 29, 36, 37], [9, 6, 8, 9, 4, 8], [1]),\n",
       "   ([17, 20, 25, 29, 36, 37, 38], [9, 7, 9, 9, 4, 8, 9], [1]),\n",
       "   ([17, 20, 25, 29, 36, 37], [9, 7, 8, 9, 4, 8], [1]),\n",
       "   ([1, 2, 3, 4, 17, 20, 25, 29, 36, 37, 38],\n",
       "    [1, 0, 1, 0, 9, 6, 7, 9, 4, 8, 9],\n",
       "    [1]),\n",
       "   ([17, 20, 25, 29, 36, 37], [9, 8, 7, 9, 4, 7], [0]),\n",
       "   ([17, 20, 21, 25, 29, 36, 37], [9, 7, 8, 9, 9, 2, 8], [0]),\n",
       "   ([40], [9], [0]),\n",
       "   ([1, 2, 3, 4, 17, 20, 25, 29, 36, 37, 38],\n",
       "    [2, 1, 2, 0, 9, 7, 8, 9, 5, 7, 9],\n",
       "    [1]),\n",
       "   ([29, 30, 40], [8, 6, 9], [0]),\n",
       "   ([17, 20, 25, 29, 36, 37], [8, 6, 7, 9, 6, 7], [1]),\n",
       "   ([30, 40], [6, 9], [0]),\n",
       "   ([1, 2, 3, 4, 17, 20, 25, 29, 36, 37, 38],\n",
       "    [2, 1, 2, 0, 8, 6, 7, 9, 6, 7, 6],\n",
       "    [1]),\n",
       "   ([17, 20, 25, 29, 36, 37], [8, 7, 7, 7, 5, 7], [0]),\n",
       "   ([17, 20, 25, 29, 36, 37], [8, 6, 5, 6, 6, 6], [0]),\n",
       "   ([30, 33, 40], [6, 6, 9], [1]),\n",
       "   ([1, 2, 3, 4, 17, 20, 25, 29, 36, 37], [2, 1, 3, 1, 7, 6, 5, 7, 5, 6], [0]),\n",
       "   ([17, 36, 37], [7, 7, 7], [0]),\n",
       "   ([17, 20, 25, 29, 36, 37], [9, 5, 8, 8, 6, 8], [0]),\n",
       "   ([21], [9], [0]),\n",
       "   ([1, 2, 3, 4, 17, 20, 25, 29, 36, 37, 38],\n",
       "    [2, 1, 3, 1, 8, 4, 7, 9, 9, 8, 4],\n",
       "    [1]),\n",
       "   ([17, 20, 25, 29, 36, 37], [8, 3, 6, 9, 7, 7], [1]),\n",
       "   ([1, 2, 3, 4, 17, 20, 25, 29, 36, 37], [2, 1, 3, 1, 7, 5, 5, 9, 5, 6], [1]),\n",
       "   ([17, 20, 25, 29, 36, 37], [8, 4, 6, 9, 6, 7], [1]),\n",
       "   ([1, 2, 3, 4, 17, 20, 25, 29, 36, 37, 38],\n",
       "    [2, 1, 3, 1, 7, 5, 5, 6, 6, 7, 4],\n",
       "    [1]),\n",
       "   ([17, 20, 25, 29, 36, 37], [8, 5, 6, 9, 5, 7], [1]),\n",
       "   ([17, 20, 25, 29, 36, 37], [8, 3, 6, 9, 5, 7], [1]),\n",
       "   ([17, 20, 25, 29, 36, 37], [7, 4, 5, 9, 4, 7], [1]),\n",
       "   ([17, 20, 25, 29, 36, 37, 38], [8, 5, 6, 6, 6, 7, 4], [1]),\n",
       "   ([17, 20, 25, 29, 36, 37], [8, 6, 6, 9, 5, 7], [1]),\n",
       "   ([17, 20, 25, 29, 36, 37], [7, 5, 5, 6, 5, 6], [1]),\n",
       "   ([17, 20, 25, 29, 36, 37], [8, 5, 6, 8, 5, 7], [1]),\n",
       "   ([1,\n",
       "     2,\n",
       "     3,\n",
       "     4,\n",
       "     8,\n",
       "     11,\n",
       "     13,\n",
       "     14,\n",
       "     15,\n",
       "     16,\n",
       "     17,\n",
       "     19,\n",
       "     20,\n",
       "     21,\n",
       "     22,\n",
       "     25,\n",
       "     26,\n",
       "     29,\n",
       "     31,\n",
       "     32,\n",
       "     33,\n",
       "     34,\n",
       "     35,\n",
       "     36,\n",
       "     37,\n",
       "     38,\n",
       "     39],\n",
       "    [2,\n",
       "     1,\n",
       "     3,\n",
       "     1,\n",
       "     7,\n",
       "     6,\n",
       "     0,\n",
       "     4,\n",
       "     2,\n",
       "     1,\n",
       "     8,\n",
       "     2,\n",
       "     4,\n",
       "     7,\n",
       "     7,\n",
       "     6,\n",
       "     0,\n",
       "     8,\n",
       "     5,\n",
       "     2,\n",
       "     6,\n",
       "     4,\n",
       "     8,\n",
       "     4,\n",
       "     7,\n",
       "     4,\n",
       "     3],\n",
       "    [1]),\n",
       "   ([30, 33, 40], [6, 4, 9], [0]),\n",
       "   ([17, 20, 25, 29, 37], [8, 6, 8, 9, 8], [1]),\n",
       "   ([17, 20, 25, 29, 36, 37], [8, 4, 7, 9, 3, 7], [1]),\n",
       "   ([17, 20, 25, 29, 36, 37], [9, 5, 8, 7, 4, 8], [1]),\n",
       "   ([1, 2, 3, 4, 17, 20, 25, 29, 36, 37, 38],\n",
       "    [2, 1, 3, 1, 9, 4, 8, 9, 5, 8, 4],\n",
       "    [1]),\n",
       "   ([17, 20, 25, 29, 36, 37], [9, 5, 8, 9, 4, 8], [1]),\n",
       "   ([17, 20, 25, 29, 36, 37], [8, 4, 6, 8, 2, 7], [1]),\n",
       "   ([17, 20, 25, 29, 36, 37], [8, 4, 6, 9, 3, 7], [1]),\n",
       "   ([33], [6], [0]),\n",
       "   ([1, 2, 3, 4, 17, 20, 25, 29, 36, 37], [2, 1, 3, 1, 8, 5, 6, 5, 5, 7], [1]),\n",
       "   ([17, 20, 25, 29, 36, 37, 38], [8, 6, 7, 4, 6, 7, 3], [1]),\n",
       "   ([20, 29, 36], [8, 8, 4], [1])]],\n",
       " 'labels_phe': [array([0, 0, 0, 0, 0, 0, 1, 0, 0, 0, 0, 0, 0, 1, 0, 0, 0, 0, 0, 0, 0, 0,\n",
       "         0, 0, 0])],\n",
       " 'labels_ihm': [0],\n",
       " 'horizons': [[20, 33, 47, 47]]}"
      ]
     },
     "execution_count": 10,
     "metadata": {},
     "output_type": "execute_result"
    }
   ],
   "source": [
    "# discretize the data\n",
    "train_dataset.discretize()\n",
    "eval_dataset.discretize()\n",
    "\n",
    "# An example of the data\n",
    "train_dataset[0]"
   ]
  },
  {
   "cell_type": "code",
   "execution_count": 11,
   "metadata": {},
   "outputs": [
    {
     "name": "stdout",
     "output_type": "stream",
     "text": [
      "[info] Tokenization setting: n_ctx=1024, label_shuffle=False, truncate=True, split=False, ignore_ts=False, ts_shuffle=False\n"
     ]
    },
    {
     "name": "stderr",
     "output_type": "stream",
     "text": [
      "Tokenizing Dataset: 100%|██████████| 23468/23468 [00:12<00:00, 1920.12it/s]\n"
     ]
    },
    {
     "name": "stdout",
     "output_type": "stream",
     "text": [
      "[info] Dataset size: 15.15M tokens\n",
      "[info] Truncated 14.47M tokens\n",
      "[info] Tokenization setting: n_ctx=1024, label_shuffle=False, truncate=True, split=False, ignore_ts=False, ts_shuffle=False\n"
     ]
    },
    {
     "name": "stderr",
     "output_type": "stream",
     "text": [
      "Tokenizing Dataset: 100%|██████████| 5155/5155 [00:02<00:00, 1927.47it/s]\n"
     ]
    },
    {
     "name": "stdout",
     "output_type": "stream",
     "text": [
      "[info] Dataset size: 3.34M tokens\n",
      "[info] Truncated 2.98M tokens\n"
     ]
    },
    {
     "data": {
      "text/plain": [
       "{'input_ids': tensor([5104, 5050, 5061,  ..., 5111, 5111, 5111]),\n",
       " 'labels': tensor([5104, 5050, 5061,  ..., 5111, 5111, 5111]),\n",
       " 'attention_mask': tensor([1, 1, 1,  ..., 0, 0, 0])}"
      ]
     },
     "execution_count": 11,
     "metadata": {},
     "output_type": "execute_result"
    }
   ],
   "source": [
    "# tokenize the data\n",
    "train_dataset.tokenize(n_ctx=config.n_ctx)\n",
    "eval_dataset.tokenize(n_ctx=config.n_ctx)\n",
    "\n",
    "# An example of the data\n",
    "train_dataset[0]"
   ]
  },
  {
   "cell_type": "code",
   "execution_count": null,
   "metadata": {},
   "outputs": [],
   "source": []
  },
  {
   "cell_type": "markdown",
   "metadata": {},
   "source": [
    "# Training"
   ]
  },
  {
   "cell_type": "code",
   "execution_count": null,
   "metadata": {},
   "outputs": [],
   "source": [
    "# if the model name is already in the saved_models folder, increment the version number\n",
    "# v = 1\n",
    "# while os.path.exists(f\"{PATH_SAVE_MODEL}/{RUN_NAME}[v{v}]_model\"):\n",
    "#     v += 1\n",
    "# RUN_NAME = RUN_NAME + f\"[v{v}]\""
   ]
  },
  {
   "cell_type": "code",
   "execution_count": 19,
   "metadata": {},
   "outputs": [
    {
     "data": {
      "text/plain": [
       "True"
      ]
     },
     "execution_count": 19,
     "metadata": {},
     "output_type": "execute_result"
    },
    {
     "name": "stderr",
     "output_type": "stream",
     "text": [
      "\u001b[34m\u001b[1mwandb\u001b[0m: \u001b[33mWARNING\u001b[0m Calling wandb.login() after wandb.init() has no effect.\n"
     ]
    },
    {
     "data": {
      "text/plain": [
       "True"
      ]
     },
     "execution_count": 19,
     "metadata": {},
     "output_type": "execute_result"
    },
    {
     "data": {
      "text/html": [
       "Finishing last run (ID:eirxtv6p) before initializing another..."
      ],
      "text/plain": [
       "<IPython.core.display.HTML object>"
      ]
     },
     "metadata": {},
     "output_type": "display_data"
    },
    {
     "data": {
      "text/html": [
       "<style>\n",
       "    table.wandb td:nth-child(1) { padding: 0 10px; text-align: left ; width: auto;} td:nth-child(2) {text-align: left ; width: 100%}\n",
       "    .wandb-row { display: flex; flex-direction: row; flex-wrap: wrap; justify-content: flex-start; width: 100% }\n",
       "    .wandb-col { display: flex; flex-direction: column; flex-basis: 100%; flex: 1; padding: 10px; }\n",
       "    </style>\n",
       "<div class=\"wandb-row\"><div class=\"wandb-col\"><h3>Run history:</h3><br/><table class=\"wandb\"><tr><td>train/epoch</td><td>▁▂▃▃▄▅▆▆▇█</td></tr><tr><td>train/global_step</td><td>▁▁▂▂▃▃▃▃▄▄▅▅▆▆▆▆▇▇██</td></tr><tr><td>train/grad_norm</td><td>█▅▃▂▁▁▁▁▁▁</td></tr><tr><td>train/learning_rate</td><td>█▇▆▆▅▄▃▃▂▁</td></tr><tr><td>train/loss</td><td>█▅▃▂▂▁▁▁▁▁</td></tr><tr><td>train/perplexity</td><td>█▂▁▁▁▁▁▁▁▁</td></tr></table><br/></div><div class=\"wandb-col\"><h3>Run summary:</h3><br/><table class=\"wandb\"><tr><td>train/epoch</td><td>0.54496</td></tr><tr><td>train/global_step</td><td>100</td></tr><tr><td>train/grad_norm</td><td>0.47241</td></tr><tr><td>train/learning_rate</td><td>0.00029</td></tr><tr><td>train/loss</td><td>2.1831</td></tr><tr><td>train/perplexity</td><td>8.87377</td></tr></table><br/></div></div>"
      ],
      "text/plain": [
       "<IPython.core.display.HTML object>"
      ]
     },
     "metadata": {},
     "output_type": "display_data"
    },
    {
     "data": {
      "text/html": [
       " View run <strong style=\"color:#cdcd00\">m3-</strong> at: <a href='https://wandb.ai/hokarami/huggingface/runs/eirxtv6p' target=\"_blank\">https://wandb.ai/hokarami/huggingface/runs/eirxtv6p</a><br/> View project at: <a href='https://wandb.ai/hokarami/huggingface' target=\"_blank\">https://wandb.ai/hokarami/huggingface</a><br/>Synced 5 W&B file(s), 0 media file(s), 0 artifact file(s) and 0 other file(s)"
      ],
      "text/plain": [
       "<IPython.core.display.HTML object>"
      ]
     },
     "metadata": {},
     "output_type": "display_data"
    },
    {
     "data": {
      "text/html": [
       "Find logs at: <code>./wandb/run-20241204_132604-eirxtv6p/logs</code>"
      ],
      "text/plain": [
       "<IPython.core.display.HTML object>"
      ]
     },
     "metadata": {},
     "output_type": "display_data"
    },
    {
     "data": {
      "text/html": [
       "The new W&B backend becomes opt-out in version 0.18.0; try it out with `wandb.require(\"core\")`! See https://wandb.me/wandb-core for more information."
      ],
      "text/plain": [
       "<IPython.core.display.HTML object>"
      ]
     },
     "metadata": {},
     "output_type": "display_data"
    },
    {
     "data": {
      "text/html": [
       "Successfully finished last run (ID:eirxtv6p). Initializing new run:<br/>"
      ],
      "text/plain": [
       "<IPython.core.display.HTML object>"
      ]
     },
     "metadata": {},
     "output_type": "display_data"
    },
    {
     "data": {
      "text/html": [
       "wandb version 0.18.7 is available!  To upgrade, please run:\n",
       " $ pip install wandb --upgrade"
      ],
      "text/plain": [
       "<IPython.core.display.HTML object>"
      ]
     },
     "metadata": {},
     "output_type": "display_data"
    },
    {
     "data": {
      "text/html": [
       "Tracking run with wandb version 0.17.3"
      ],
      "text/plain": [
       "<IPython.core.display.HTML object>"
      ]
     },
     "metadata": {},
     "output_type": "display_data"
    },
    {
     "data": {
      "text/html": [
       "Run data is saved locally in <code>/mlodata1/hokarami/HALO_Inpatient/SynEHRgy/wandb/run-20241204_133018-witcfxqp</code>"
      ],
      "text/plain": [
       "<IPython.core.display.HTML object>"
      ]
     },
     "metadata": {},
     "output_type": "display_data"
    },
    {
     "data": {
      "text/html": [
       "Syncing run <strong><a href='https://wandb.ai/hokarami/SynEHRgy/runs/witcfxqp' target=\"_blank\">TEST</a></strong> to <a href='https://wandb.ai/hokarami/SynEHRgy' target=\"_blank\">Weights & Biases</a> (<a href='https://wandb.me/run' target=\"_blank\">docs</a>)<br/>"
      ],
      "text/plain": [
       "<IPython.core.display.HTML object>"
      ]
     },
     "metadata": {},
     "output_type": "display_data"
    },
    {
     "data": {
      "text/html": [
       " View project at <a href='https://wandb.ai/hokarami/SynEHRgy' target=\"_blank\">https://wandb.ai/hokarami/SynEHRgy</a>"
      ],
      "text/plain": [
       "<IPython.core.display.HTML object>"
      ]
     },
     "metadata": {},
     "output_type": "display_data"
    },
    {
     "data": {
      "text/html": [
       " View run at <a href='https://wandb.ai/hokarami/SynEHRgy/runs/witcfxqp' target=\"_blank\">https://wandb.ai/hokarami/SynEHRgy/runs/witcfxqp</a>"
      ],
      "text/plain": [
       "<IPython.core.display.HTML object>"
      ]
     },
     "metadata": {},
     "output_type": "display_data"
    },
    {
     "data": {
      "text/html": [
       "<button onClick=\"this.nextSibling.style.display='block';this.style.display='none';\">Display W&B run</button><iframe src='https://wandb.ai/hokarami/SynEHRgy/runs/witcfxqp?jupyter=true' style='border:none;width:100%;height:420px;display:none;'></iframe>"
      ],
      "text/plain": [
       "<wandb.sdk.wandb_run.Run at 0x7f5e93a32610>"
      ]
     },
     "execution_count": 19,
     "metadata": {},
     "output_type": "execute_result"
    }
   ],
   "source": [
    "# setup wandb\n",
    "\n",
    "import wandb\n",
    "from dotenv import load_dotenv\n",
    "load_dotenv()\n",
    "wandb.login(key=os.getenv(\"WANDB_KEY\"))\n",
    "\n",
    "\n",
    "wandb_config = {k: v for k, v in vars(config).items() if k != \"w_class\"}\n",
    "wandb.init(project=cfg.wandb.project, name = cfg.run_name,config=wandb_config)\n"
   ]
  },
  {
   "cell_type": "code",
   "execution_count": 20,
   "metadata": {},
   "outputs": [
    {
     "data": {
      "text/plain": [
       "<torch._C.Generator at 0x7f5f236c2370>"
      ]
     },
     "execution_count": 20,
     "metadata": {},
     "output_type": "execute_result"
    }
   ],
   "source": [
    "device = torch.device(\"cuda\" if torch.cuda.is_available() else \"cpu\")\n",
    "\n",
    "SEED = 4\n",
    "random.seed(SEED)\n",
    "np.random.seed(SEED)\n",
    "torch.manual_seed(SEED)\n",
    "if torch.cuda.is_available():\n",
    "    torch.cuda.manual_seed_all(SEED)\n",
    "\n"
   ]
  },
  {
   "cell_type": "code",
   "execution_count": 30,
   "metadata": {},
   "outputs": [],
   "source": [
    "model = SynEHRgy(config).to(device)\n",
    "\n",
    "\n"
   ]
  },
  {
   "cell_type": "code",
   "execution_count": 31,
   "metadata": {},
   "outputs": [],
   "source": [
    "cfg.train.epochs = 0.1"
   ]
  },
  {
   "cell_type": "code",
   "execution_count": 32,
   "metadata": {},
   "outputs": [
    {
     "data": {
      "text/html": [
       "\n",
       "    <div>\n",
       "      \n",
       "      <progress value='19' max='19' style='width:300px; height:20px; vertical-align: middle;'></progress>\n",
       "      [19/19 00:48, Epoch 0/1]\n",
       "    </div>\n",
       "    <table border=\"1\" class=\"dataframe\">\n",
       "  <thead>\n",
       " <tr style=\"text-align: left;\">\n",
       "      <th>Epoch</th>\n",
       "      <th>Training Loss</th>\n",
       "      <th>Validation Loss</th>\n",
       "      <th>Perplexity</th>\n",
       "    </tr>\n",
       "  </thead>\n",
       "  <tbody>\n",
       "    <tr>\n",
       "      <td>0</td>\n",
       "      <td>6.968700</td>\n",
       "      <td>5.320583</td>\n",
       "      <td>204.503045</td>\n",
       "    </tr>\n",
       "  </tbody>\n",
       "</table><p>"
      ],
      "text/plain": [
       "<IPython.core.display.HTML object>"
      ]
     },
     "metadata": {},
     "output_type": "display_data"
    }
   ],
   "source": [
    "model.fit(cfg, train_dataset, eval_dataset)"
   ]
  },
  {
   "cell_type": "code",
   "execution_count": null,
   "metadata": {},
   "outputs": [],
   "source": []
  },
  {
   "cell_type": "code",
   "execution_count": null,
   "metadata": {},
   "outputs": [],
   "source": []
  },
  {
   "cell_type": "markdown",
   "metadata": {},
   "source": [
    "# Generation"
   ]
  },
  {
   "cell_type": "code",
   "execution_count": 7,
   "metadata": {},
   "outputs": [
    {
     "data": {
      "text/plain": [
       "hydra.initialize()"
      ]
     },
     "execution_count": 7,
     "metadata": {},
     "output_type": "execute_result"
    },
    {
     "data": {
      "text/plain": [
       "{'model': 'TEST', 'fix_covars': False, 'bin_type': 'uniform', 'n_samples': 6000, 'n_resample': 1000, 'batch_size': 256, 'generation': {'top_k': 50, 'top_p': 1.0, 'temperature': 1.0, 'repetition_penalty': 1.0, 'do_sample': True}}"
      ]
     },
     "execution_count": 7,
     "metadata": {},
     "output_type": "execute_result"
    }
   ],
   "source": [
    "# loading generation config\n",
    "\n",
    "core.global_hydra.GlobalHydra.instance().clear()\n",
    "\n",
    "initialize(version_base=None, config_path=\"configs\")\n",
    "gen_cfg = compose(config_name=\"configGenerate.yaml\")\n",
    "\n",
    "gen_cfg"
   ]
  },
  {
   "cell_type": "code",
   "execution_count": 8,
   "metadata": {},
   "outputs": [],
   "source": [
    "device='cuda'"
   ]
  },
  {
   "cell_type": "code",
   "execution_count": null,
   "metadata": {},
   "outputs": [
    {
     "name": "stdout",
     "output_type": "stream",
     "text": [
      "Checkpoints found:  checkpoint-3303\n"
     ]
    }
   ],
   "source": [
    "# loading the model\n",
    "\n",
    "RUN_NAME = \"synehrgy-mimic-v2\"\n",
    "\n",
    "config_path = f\"./saved_models/{RUN_NAME}_config.yaml\"\n",
    "model_path = f\"./saved_models/{RUN_NAME}\"\n",
    "\n",
    "\n",
    "\n",
    "model = SynEHRgy.load_model(config_path, model_path).to(device)\n",
    "\n",
    "config = HydraConfig(OmegaConf.load(f\"{config_path}\"))\n",
    "\n",
    "\n",
    "metadata = pickle.load(open(config.dataset_folder+\"/metadata2.pkl\", \"rb\"))"
   ]
  },
  {
   "cell_type": "code",
   "execution_count": 10,
   "metadata": {},
   "outputs": [],
   "source": [
    "gen_cfg.fix_covars=False\n",
    "gen_cfg.n_samples=1000"
   ]
  },
  {
   "cell_type": "code",
   "execution_count": 12,
   "metadata": {},
   "outputs": [
    {
     "name": "stderr",
     "output_type": "stream",
     "text": [
      " 25%|██▌       | 1/4 [00:20<01:01, 20.55s/it]"
     ]
    },
    {
     "name": "stdout",
     "output_type": "stream",
     "text": [
      "[info] Generated 256 synthetic patients\n"
     ]
    },
    {
     "name": "stderr",
     "output_type": "stream",
     "text": [
      " 50%|█████     | 2/4 [00:30<00:29, 14.59s/it]"
     ]
    },
    {
     "name": "stdout",
     "output_type": "stream",
     "text": [
      "[info] Generated 512 synthetic patients\n"
     ]
    },
    {
     "name": "stderr",
     "output_type": "stream",
     "text": [
      " 75%|███████▌  | 3/4 [00:41<00:12, 12.70s/it]"
     ]
    },
    {
     "name": "stdout",
     "output_type": "stream",
     "text": [
      "[info] Generated 768 synthetic patients\n"
     ]
    },
    {
     "name": "stderr",
     "output_type": "stream",
     "text": [
      " 75%|███████▌  | 3/4 [00:51<00:17, 17.28s/it]\n"
     ]
    }
   ],
   "source": [
    "# generate synthetic data\n",
    "synthetic_data_tokenized = model.generate_synthetic_dataset(gen_cfg)"
   ]
  },
  {
   "cell_type": "code",
   "execution_count": 14,
   "metadata": {},
   "outputs": [
    {
     "name": "stdout",
     "output_type": "stream",
     "text": [
      "[info] Loaded synthetic dataset. Please note that the dataset is already tokenized and discretized\n",
      "[info] Loaded synthetic dataset with 1000 patients\n"
     ]
    }
   ],
   "source": [
    "# address to save the synthetic data\n",
    "syn_folder = \"./data/synthetic\"\n",
    "\n",
    "\n",
    "synthetic_dataset = ClinicalDataset(syn_folder, split='synthetic', data=synthetic_data_tokenized, metadata=metadata)\n",
    "\n"
   ]
  },
  {
   "cell_type": "code",
   "execution_count": 15,
   "metadata": {},
   "outputs": [
    {
     "name": "stderr",
     "output_type": "stream",
     "text": [
      "Detokenizing: 100%|██████████| 1000/1000 [00:00<00:00, 1068.91it/s]"
     ]
    },
    {
     "name": "stdout",
     "output_type": "stream",
     "text": [
      "full: 716, truncated: 284\n",
      "no ihm: 0 / 1000\n"
     ]
    },
    {
     "name": "stderr",
     "output_type": "stream",
     "text": [
      "\n"
     ]
    },
    {
     "data": {
      "text/plain": [
       "{'covars': [([41, 42], [14, 1])],\n",
       " 'codes': [[42, 0, 70, 288, 25]],\n",
       " 'ts': [[([17, 25, 37], [9, 9, 9], [2]),\n",
       "   ([20, 29, 36, 38], [3, 5, 4, 4], [0]),\n",
       "   ([1, 2, 4], [2, 1, 1], [0]),\n",
       "   ([19, 20, 29, 36], [3, 3, 5, 3], [0]),\n",
       "   ([17, 25, 37], [8, 6, 8], [0]),\n",
       "   ([20, 29, 36], [2, 5, 4], [1]),\n",
       "   ([20, 29, 36], [1, 8, 3], [1]),\n",
       "   ([20, 29, 36], [2, 8, 6], [1]),\n",
       "   ([17, 25, 37], [9, 9, 9], [0]),\n",
       "   ([20, 29, 36], [1, 8, 3], [0]),\n",
       "   ([1, 2, 4, 20, 29, 36, 38], [2, 1, 1, 1, 7, 3, 2], [1]),\n",
       "   ([17, 25, 37], [7, 4, 7], [0]),\n",
       "   ([20, 29, 36], [2, 9, 4], [1]),\n",
       "   ([17, 25, 37], [8, 5, 8], [0]),\n",
       "   ([20, 29, 36], [0, 7, 2], [1]),\n",
       "   ([17, 25, 37], [7, 3, 7], [0]),\n",
       "   ([20, 29, 36], [1, 9, 4], [1]),\n",
       "   ([17, 25, 37], [8, 5, 7], [0]),\n",
       "   ([1, 2, 4, 19, 20, 29, 36], [2, 1, 1, 5, 1, 9, 5], [1]),\n",
       "   ([17, 25, 37], [8, 6, 9], [0]),\n",
       "   ([20, 29, 36, 38], [2, 7, 3, 2], [1]),\n",
       "   ([17, 25, 37], [8, 6, 8], [0]),\n",
       "   ([17, 20, 25, 29, 36, 37], [7, 2, 3, 7, 4, 6], [1]),\n",
       "   ([5, 17, 20, 25, 29, 36, 37], [0, 7, 2, 3, 8, 4, 6], [1]),\n",
       "   ([17, 20, 25, 29, 36, 37], [7, 2, 3, 7, 3, 7], [1]),\n",
       "   ([8, 9, 11, 13, 14, 15, 16, 19, 21, 31, 32, 33],\n",
       "    [5, 0, 7, 0, 5, 4, 1, 4, 9, 6, 6, 7],\n",
       "    [0]),\n",
       "   ([1, 2, 4, 17, 20, 25, 29, 36, 37, 38],\n",
       "    [2, 1, 1, 9, 1, 5, 7, 4, 6, 4],\n",
       "    [1]),\n",
       "   ([11, 15, 16, 19], [7, 4, 1, 4], [0]),\n",
       "   ([17, 20, 25, 29, 36, 37], [9, 0, 8, 8, 4, 7], [1]),\n",
       "   ([17, 20, 25, 29, 36, 37], [8, 0, 5, 6, 4, 7], [1]),\n",
       "   ([1, 2, 4, 17, 20, 25, 29, 36, 37, 38],\n",
       "    [2, 1, 1, 9, 1, 7, 7, 5, 7, 4],\n",
       "    [1]),\n",
       "   ([20, 29, 36], [1, 9, 3], [1]),\n",
       "   ([17, 25, 37], [9, 8, 8], [0]),\n",
       "   ([20, 29, 36], [3, 9, 5], [1]),\n",
       "   ([17, 25, 37], [8, 6, 8], [1]),\n",
       "   ([20, 36], [3, 4], [0]),\n",
       "   ([29], [7], [0]),\n",
       "   ([17, 25, 37], [8, 3, 6], [1]),\n",
       "   ([17, 20, 25, 29, 36, 37], [4, 1, 0, 9, 7, 5], [0])]],\n",
       " 'labels_phe': [array([0, 0, 0, 1, 0, 0, 0, 0, 0, 0, 0, 0, 0, 1, 0, 0, 0, 0, 0, 0, 0, 0,\n",
       "         0, 0, 0])],\n",
       " 'labels_ihm': [0]}"
      ]
     },
     "execution_count": 15,
     "metadata": {},
     "output_type": "execute_result"
    }
   ],
   "source": [
    "synthetic_dataset.detokenize()\n",
    "\n",
    "\n",
    "synthetic_dataset[0]"
   ]
  },
  {
   "cell_type": "code",
   "execution_count": 16,
   "metadata": {},
   "outputs": [],
   "source": [
    "synthetic_dataset.save(name=RUN_NAME)"
   ]
  },
  {
   "cell_type": "markdown",
   "metadata": {},
   "source": [
    "# Evaluation"
   ]
  },
  {
   "cell_type": "code",
   "execution_count": null,
   "metadata": {},
   "outputs": [],
   "source": []
  },
  {
   "cell_type": "code",
   "execution_count": null,
   "metadata": {},
   "outputs": [],
   "source": []
  }
 ],
 "metadata": {
  "kernelspec": {
   "display_name": "paper3",
   "language": "python",
   "name": "python3"
  },
  "language_info": {
   "codemirror_mode": {
    "name": "ipython",
    "version": 3
   },
   "file_extension": ".py",
   "mimetype": "text/x-python",
   "name": "python",
   "nbconvert_exporter": "python",
   "pygments_lexer": "ipython3",
   "version": "3.8.5"
  }
 },
 "nbformat": 4,
 "nbformat_minor": 2
}
